{
 "cells": [
  {
   "cell_type": "markdown",
   "metadata": {},
   "source": [
    "# Analyzing Kaggle Survey 2020 in a structured way\n",
    "\n",
    "Yao-Jen Kuo <yaojenkuo@datainpoint.com> from [DATAINPOINT](https://datainpoint.substack.com/about)"
   ]
  },
  {
   "cell_type": "markdown",
   "metadata": {},
   "source": [
    "## Prerequisite libraries"
   ]
  },
  {
   "cell_type": "code",
   "execution_count": 1,
   "metadata": {},
   "outputs": [],
   "source": [
    "import pandas as pd\n",
    "import matplotlib.pyplot as plt"
   ]
  },
  {
   "cell_type": "markdown",
   "metadata": {},
   "source": [
    "## TL; DR\n",
    "\n",
    "In this notebook, we define a class `KaggleSurvey2020` that is able to help us analyze the Kaggle Survey 2020 in a more structured way and shows how to conduct data analysis with OOP besides using the traditional procedural programming way."
   ]
  },
  {
   "cell_type": "markdown",
   "metadata": {},
   "source": [
    "## Pain point\n",
    "\n",
    "The original Kaggle Survey 2020 data contains 354 columns with 47 questions combined with multiple choice and multiple selection questions. It is definitely painful and tedious to explore without the aids of re-usable codes like functions or classes."
   ]
  },
  {
   "cell_type": "markdown",
   "metadata": {},
   "source": [
    "## The `KaggleSurvey2020` class\n",
    "\n",
    "We will define 3 major methods of `KaggleSurvey2020` to analyze both survey responses and questions.\n",
    "\n",
    "1. The `generate_unique_questions` method: Returns a dataframe that maps question numbers to their descriptions and questions types.\n",
    "2. The `summarize_response(question_index)` method: Returns an aggregation summary of a given question. For a multiple choice problem (only a single choice can be selected) this method returns a series of percentages. As for a multiple selection problem (multiple choices can be selected) this method return a series of value counts.\n",
    "3. The `plot_summary(question_index)` method: Plots a horizontal bar plot that illustrates the aggregation summary of a given question."
   ]
  },
  {
   "cell_type": "code",
   "execution_count": 2,
   "metadata": {},
   "outputs": [],
   "source": [
    "class KaggleSurvey2020:\n",
    "    \"\"\"\n",
    "    This class helps us analyze the Kaggle Survey 2020 with ease.\n",
    "    See https://www.kaggle.com/c/kaggle-survey-2020\n",
    "    Args:\n",
    "        csv_file (str): Specify the file path of kaggle_survey_2020_responses.csv.\n",
    "    \"\"\"\n",
    "    def __init__(self, csv_file):\n",
    "        self._csv_file = csv_file\n",
    "        # import survey responses\n",
    "        survey_response = pd.read_csv(self._csv_file, skiprows=[1])\n",
    "        survey_response = survey_response.drop('Time from Start to Finish (seconds)', axis=1)\n",
    "        # import survey questions\n",
    "        first_2_rows = pd.read_csv(self._csv_file, nrows=1)\n",
    "        question_desc = first_2_rows.values.ravel()[1:]\n",
    "        question_index = first_2_rows.columns[1:]\n",
    "        questions_ser = pd.Series(question_desc, index=question_index)\n",
    "        self._survey_response = survey_response\n",
    "        self._questions_ser = questions_ser\n",
    "    def generate_questions(self):\n",
    "        \"\"\"\n",
    "        This function returns the DataFrame of questions.\n",
    "        \"\"\"\n",
    "        question_indices = [l[0] + l[1] if len(l) > 1 else l[0] for l in self._questions_ser.index.str.split(\"_\")]\n",
    "        question_indices = [s.replace('Part', '') if 'Part' in s else s for s in question_indices]\n",
    "        question_indices = [s.replace('OTHER', '') if 'OTHER' in s else s for s in question_indices]\n",
    "        questions = pd.DataFrame()\n",
    "        questions['question_index'] = question_indices\n",
    "        questions['question_desc'] = self._questions_ser.values\n",
    "        return questions\n",
    "    def generate_unique_questions(self):\n",
    "        \"\"\"\n",
    "        This function returns the DataFrame of unique questions.\n",
    "        \"\"\"\n",
    "        questions = self.generate_questions()\n",
    "        question_indices = questions['question_index'].values\n",
    "        question_descs = [l[0] for l in self._questions_ser.str.split(' - ')]\n",
    "        # Collecting unique questions indices and descriptions\n",
    "        unique_question_indices = []\n",
    "        unique_question_descs = []\n",
    "        for qi, qd in zip(question_indices, question_descs):\n",
    "            if qi not in unique_question_indices:\n",
    "                unique_question_indices.append(qi)\n",
    "            if qd not in unique_question_descs:\n",
    "                unique_question_descs.append(qd)\n",
    "        # Categorizing question type\n",
    "        question_types = ['multiple selection' if 'Select all that apply' in s else 'multiple choice' for s in unique_question_descs]\n",
    "        unique_questions = pd.DataFrame()\n",
    "        unique_questions['question_index'] = unique_question_indices\n",
    "        unique_questions['question_desc'] = unique_question_descs\n",
    "        unique_questions['question_type'] = question_types\n",
    "        return unique_questions\n",
    "    def summarize_response(self, question_index):\n",
    "        \"\"\"\n",
    "        This function returns the summary of a given question.\n",
    "        Args:\n",
    "            question_index (str): Specify the question, e.g. 'Q1' for Question 1, 'Q26A' for Question 26-A.\n",
    "        \"\"\"\n",
    "        questions = self.generate_questions()\n",
    "        column_iloc = questions[questions['question_index'] == question_index].index\n",
    "        ith_question = self._survey_response.iloc[:, column_iloc]\n",
    "        # Use simple value_counts for multiple choice questions\n",
    "        if column_iloc.size == 1:\n",
    "            summary = ith_question[question_index].value_counts(normalize=True).sort_values()\n",
    "            return summary\n",
    "        # Use iteration for multiple selection questions\n",
    "        else:\n",
    "            freq_counts = dict()\n",
    "            for col in ith_question.columns:\n",
    "                ser = ith_question[col]\n",
    "                ser_value_counts = ser.value_counts()\n",
    "                k, v = ser_value_counts.index[0], ser_value_counts.values[0]\n",
    "                freq_counts[k] = v\n",
    "            summary = pd.Series(freq_counts).sort_values()\n",
    "        return summary\n",
    "    def plot_summary(self, question_index):\n",
    "        \"\"\"\n",
    "        This function plots the bar plot of a given question.\n",
    "        Args:\n",
    "            question_index (str): Specify the question, e.g. 'Q1' for Question 1, 'Q26A' for Question 26-A.\n",
    "        \"\"\"\n",
    "        fig = plt.figure()\n",
    "        axes = plt.axes()\n",
    "        response_ser = self.summarize_response(question_index)\n",
    "        # Showing only top 10 categories if there are too many.\n",
    "        if response_ser.size > 10:\n",
    "            print(\"Too many categories, only showing the top 10.\")\n",
    "            top_ten = response_ser[-10:]\n",
    "            y = top_ten.index\n",
    "            width = top_ten.values\n",
    "        else:\n",
    "            y = response_ser.index\n",
    "            width = response_ser.values\n",
    "        # Highlight top 3 with red\n",
    "        colors = ['c' for _ in range(y.size)]\n",
    "        colors[-3:] = ['r', 'r', 'r']\n",
    "        axes.barh(y, width, color=colors)\n",
    "        axes.spines['right'].set_visible(False)\n",
    "        axes.spines['top'].set_visible(False)\n",
    "        axes.tick_params(length=0)\n",
    "        ith_question = unique_questions[unique_questions['question_index'] == question_index]\n",
    "        question_desc = ith_question['question_desc'].values[0]\n",
    "        axes.set_title(question_desc)\n",
    "        plt.show()"
   ]
  },
  {
   "cell_type": "markdown",
   "metadata": {},
   "source": [
    "## Summarizing survey questions\n",
    "\n",
    "The Kaggle Survey 2020 contains two types of question: multiple choice questions (only a single choice can be selected) and multiple selection questions (multiple choices can be selected). We can generate an overview of Kaggle Survey 2020 questions with our pre-defined class."
   ]
  },
  {
   "cell_type": "code",
   "execution_count": 3,
   "metadata": {},
   "outputs": [
    {
     "data": {
      "text/html": [
       "<div>\n",
       "<style scoped>\n",
       "    .dataframe tbody tr th:only-of-type {\n",
       "        vertical-align: middle;\n",
       "    }\n",
       "\n",
       "    .dataframe tbody tr th {\n",
       "        vertical-align: top;\n",
       "    }\n",
       "\n",
       "    .dataframe thead th {\n",
       "        text-align: right;\n",
       "    }\n",
       "</style>\n",
       "<table border=\"1\" class=\"dataframe\">\n",
       "  <thead>\n",
       "    <tr style=\"text-align: right;\">\n",
       "      <th></th>\n",
       "      <th>question_index</th>\n",
       "      <th>question_desc</th>\n",
       "      <th>question_type</th>\n",
       "    </tr>\n",
       "  </thead>\n",
       "  <tbody>\n",
       "    <tr>\n",
       "      <th>0</th>\n",
       "      <td>Q1</td>\n",
       "      <td>What is your age (# years)?</td>\n",
       "      <td>multiple choice</td>\n",
       "    </tr>\n",
       "    <tr>\n",
       "      <th>1</th>\n",
       "      <td>Q2</td>\n",
       "      <td>What is your gender?</td>\n",
       "      <td>multiple choice</td>\n",
       "    </tr>\n",
       "    <tr>\n",
       "      <th>2</th>\n",
       "      <td>Q3</td>\n",
       "      <td>In which country do you currently reside?</td>\n",
       "      <td>multiple choice</td>\n",
       "    </tr>\n",
       "    <tr>\n",
       "      <th>3</th>\n",
       "      <td>Q4</td>\n",
       "      <td>What is the highest level of formal education ...</td>\n",
       "      <td>multiple choice</td>\n",
       "    </tr>\n",
       "    <tr>\n",
       "      <th>4</th>\n",
       "      <td>Q5</td>\n",
       "      <td>Select the title most similar to your current ...</td>\n",
       "      <td>multiple choice</td>\n",
       "    </tr>\n",
       "  </tbody>\n",
       "</table>\n",
       "</div>"
      ],
      "text/plain": [
       "  question_index                                      question_desc  \\\n",
       "0             Q1                        What is your age (# years)?   \n",
       "1             Q2                               What is your gender?   \n",
       "2             Q3          In which country do you currently reside?   \n",
       "3             Q4  What is the highest level of formal education ...   \n",
       "4             Q5  Select the title most similar to your current ...   \n",
       "\n",
       "     question_type  \n",
       "0  multiple choice  \n",
       "1  multiple choice  \n",
       "2  multiple choice  \n",
       "3  multiple choice  \n",
       "4  multiple choice  "
      ]
     },
     "execution_count": 3,
     "metadata": {},
     "output_type": "execute_result"
    }
   ],
   "source": [
    "csv_file = 'kaggle_survey_2020_responses.csv'\n",
    "ks = KaggleSurvey2020(csv_file)\n",
    "unique_questions = ks.generate_unique_questions()\n",
    "unique_questions.head()"
   ]
  },
  {
   "cell_type": "code",
   "execution_count": 4,
   "metadata": {},
   "outputs": [
    {
     "data": {
      "text/html": [
       "<div>\n",
       "<style scoped>\n",
       "    .dataframe tbody tr th:only-of-type {\n",
       "        vertical-align: middle;\n",
       "    }\n",
       "\n",
       "    .dataframe tbody tr th {\n",
       "        vertical-align: top;\n",
       "    }\n",
       "\n",
       "    .dataframe thead th {\n",
       "        text-align: right;\n",
       "    }\n",
       "</style>\n",
       "<table border=\"1\" class=\"dataframe\">\n",
       "  <thead>\n",
       "    <tr style=\"text-align: right;\">\n",
       "      <th></th>\n",
       "      <th>question_index</th>\n",
       "      <th>question_desc</th>\n",
       "      <th>question_type</th>\n",
       "    </tr>\n",
       "  </thead>\n",
       "  <tbody>\n",
       "    <tr>\n",
       "      <th>42</th>\n",
       "      <td>Q29B</td>\n",
       "      <td>Which of the following big data products (rela...</td>\n",
       "      <td>multiple selection</td>\n",
       "    </tr>\n",
       "    <tr>\n",
       "      <th>43</th>\n",
       "      <td>Q31B</td>\n",
       "      <td>Which of the following business intelligence t...</td>\n",
       "      <td>multiple selection</td>\n",
       "    </tr>\n",
       "    <tr>\n",
       "      <th>44</th>\n",
       "      <td>Q33B</td>\n",
       "      <td>Which categories of automated machine learning...</td>\n",
       "      <td>multiple selection</td>\n",
       "    </tr>\n",
       "    <tr>\n",
       "      <th>45</th>\n",
       "      <td>Q34B</td>\n",
       "      <td>Which specific automated machine learning tool...</td>\n",
       "      <td>multiple selection</td>\n",
       "    </tr>\n",
       "    <tr>\n",
       "      <th>46</th>\n",
       "      <td>Q35B</td>\n",
       "      <td>In the next 2 years, do you hope to become mor...</td>\n",
       "      <td>multiple selection</td>\n",
       "    </tr>\n",
       "  </tbody>\n",
       "</table>\n",
       "</div>"
      ],
      "text/plain": [
       "   question_index                                      question_desc  \\\n",
       "42           Q29B  Which of the following big data products (rela...   \n",
       "43           Q31B  Which of the following business intelligence t...   \n",
       "44           Q33B  Which categories of automated machine learning...   \n",
       "45           Q34B  Which specific automated machine learning tool...   \n",
       "46           Q35B  In the next 2 years, do you hope to become mor...   \n",
       "\n",
       "         question_type  \n",
       "42  multiple selection  \n",
       "43  multiple selection  \n",
       "44  multiple selection  \n",
       "45  multiple selection  \n",
       "46  multiple selection  "
      ]
     },
     "execution_count": 4,
     "metadata": {},
     "output_type": "execute_result"
    }
   ],
   "source": [
    "unique_questions.tail()"
   ]
  },
  {
   "cell_type": "code",
   "execution_count": 5,
   "metadata": {},
   "outputs": [
    {
     "name": "stdout",
     "output_type": "stream",
     "text": [
      "multiple selection    28\n",
      "multiple choice       19\n",
      "Name: question_type, dtype: int64\n"
     ]
    }
   ],
   "source": [
    "n_questions = unique_questions.shape[0]\n",
    "question_summary = unique_questions['question_type'].value_counts()\n",
    "n_multiple_choice = question_summary['multiple choice']\n",
    "n_multiple_selection = question_summary['multiple selection']\n",
    "print(question_summary)"
   ]
  },
  {
   "cell_type": "code",
   "execution_count": 6,
   "metadata": {},
   "outputs": [
    {
     "name": "stdout",
     "output_type": "stream",
     "text": [
      "There are 19 multiple choices and 28 multiple selections among 47 questions.\n"
     ]
    }
   ],
   "source": [
    "print(\"There are {} multiple choices and {} multiple selections among {} questions.\".format(n_multiple_choice, n_multiple_selection, n_questions))"
   ]
  },
  {
   "cell_type": "markdown",
   "metadata": {},
   "source": [
    "## Summarizing survey responses\n",
    "\n",
    "We are able to summarize each question (no matter it is a multiple choice or a multiple selection) with the method `summarize_response(question_index)`. Take 2 multiple choice questions as examples, we can summarize the responses with a series of percentages."
   ]
  },
  {
   "cell_type": "code",
   "execution_count": 7,
   "metadata": {},
   "outputs": [
    {
     "data": {
      "text/plain": [
       "DBA/Database Engineer        0.006484\n",
       "Statistician                 0.015044\n",
       "Data Engineer                0.022670\n",
       "Product/Project Manager      0.035898\n",
       "Business Analyst             0.041396\n",
       "Machine Learning Engineer    0.056129\n",
       "Research Scientist           0.060902\n",
       "Data Analyst                 0.076516\n",
       "Currently not employed       0.085698\n",
       "Other                        0.090107\n",
       "Software Engineer            0.102091\n",
       "Data Scientist               0.138818\n",
       "Student                      0.268247\n",
       "Name: Q5, dtype: float64"
      ]
     },
     "execution_count": 7,
     "metadata": {},
     "output_type": "execute_result"
    }
   ],
   "source": [
    "# Select the title most similar to your current role (or most recent title if retired):\n",
    "ks.summarize_response('Q5')"
   ]
  },
  {
   "cell_type": "code",
   "execution_count": 8,
   "metadata": {},
   "outputs": [
    {
     "data": {
      "text/plain": [
       "Swift         0.000954\n",
       "Bash          0.001459\n",
       "None          0.004545\n",
       "Javascript    0.004938\n",
       "Julia         0.006790\n",
       "Other         0.008473\n",
       "Java          0.009371\n",
       "MATLAB        0.010942\n",
       "C             0.016890\n",
       "C++           0.018237\n",
       "SQL           0.047640\n",
       "R             0.070647\n",
       "Python        0.799113\n",
       "Name: Q8, dtype: float64"
      ]
     },
     "execution_count": 8,
     "metadata": {},
     "output_type": "execute_result"
    }
   ],
   "source": [
    "# What programming language would you recommend an aspiring data scientist to learn first?\n",
    "ks.summarize_response('Q8')"
   ]
  },
  {
   "cell_type": "markdown",
   "metadata": {},
   "source": [
    "Take other 2 multiple selection questions as examples, we can summarize the responses with a series of value counts."
   ]
  },
  {
   "cell_type": "code",
   "execution_count": 9,
   "metadata": {},
   "outputs": [
    {
     "data": {
      "text/plain": [
       "Swift           198\n",
       "None            206\n",
       "Julia           262\n",
       "Bash           1776\n",
       "Other          1945\n",
       "MATLAB         2217\n",
       "Javascript     2995\n",
       "C              3315\n",
       "Java           3367\n",
       "C++            3827\n",
       "R              4277\n",
       "SQL            7535\n",
       "Python        15530\n",
       "dtype: int64"
      ]
     },
     "execution_count": 9,
     "metadata": {},
     "output_type": "execute_result"
    }
   ],
   "source": [
    "# What programming languages do you use on a regular basis? (Select all that apply)\n",
    "ks.summarize_response('Q7')"
   ]
  },
  {
   "cell_type": "code",
   "execution_count": 10,
   "metadata": {},
   "outputs": [
    {
     "data": {
      "text/plain": [
       "None                                               386\n",
       "Other                                             1162\n",
       "  Vim / Emacs                                     1502\n",
       " MATLAB                                           1604\n",
       "Visual Studio                                     2445\n",
       "  Sublime Text                                    2452\n",
       "  Notepad++                                       3132\n",
       "  Spyder                                          3290\n",
       " RStudio                                          3826\n",
       " PyCharm                                          5099\n",
       "Visual Studio Code (VSCode)                       5873\n",
       "Jupyter (JupyterLab, Jupyter Notebooks, etc)     11211\n",
       "dtype: int64"
      ]
     },
     "execution_count": 10,
     "metadata": {},
     "output_type": "execute_result"
    }
   ],
   "source": [
    "# Which of the following integrated development environments (IDE's) do you use on a regular basis? (Select all that apply)\n",
    "ks.summarize_response('Q9')"
   ]
  },
  {
   "cell_type": "markdown",
   "metadata": {},
   "source": [
    "## Plotting survey responses\n",
    "\n",
    "Besides showing a series of percentages/value counts, we can also plot a horizontal bar plot based on the series by calling the `plot_summary(question_index)` method. If there are too many categories, this method only shows the top 10 most categories."
   ]
  },
  {
   "cell_type": "code",
   "execution_count": 11,
   "metadata": {},
   "outputs": [
    {
     "data": {
      "image/png": "[encoded data removed]",
      "text/plain": [
       "<Figure size 432x288 with 1 Axes>"
      ]
     },
     "metadata": {
      "needs_background": "light"
     },
     "output_type": "display_data"
    }
   ],
   "source": [
    "ks.plot_summary('Q23')"
   ]
  },
  {
   "cell_type": "code",
   "execution_count": 12,
   "metadata": {},
   "outputs": [
    {
     "name": "stdout",
     "output_type": "stream",
     "text": [
      "Too many categories, only showing the top 10.\n"
     ]
    },
    {
     "data": {
      "image/png": "[encoded data removed]",
      "text/plain": [
       "<Figure size 432x288 with 1 Axes>"
      ]
     },
     "metadata": {
      "needs_background": "light"
     },
     "output_type": "display_data"
    }
   ],
   "source": [
    "ks.plot_summary('Q29A')"
   ]
  },
  {
   "cell_type": "markdown",
   "metadata": {},
   "source": [
    "## Conclusion\n",
    "\n",
    "The notebook users have long been criticized for not writing re-usable codes. In this notebook, we incorporate object-oriented programming. We are able to demonstrate how to conduct reproducible exploratory analysis with summaries of percentage/value counts and plots by instantiating the `KaggleSurvey2020` class. If you also find it convenient, it is time to add some OO flavor into your own notebook!\n",
    "\n",
    "The `KaggleSurvey2020` class can be imported from ks2020.py via the following codes."
   ]
  },
  {
   "cell_type": "code",
   "execution_count": 13,
   "metadata": {},
   "outputs": [
    {
     "data": {
      "text/plain": [
       "ks2020.KaggleSurvey2020"
      ]
     },
     "execution_count": 13,
     "metadata": {},
     "output_type": "execute_result"
    }
   ],
   "source": [
    "from ks2020 import KaggleSurvey2020\n",
    "\n",
    "csv_file = 'kaggle_survey_2020_responses.csv'\n",
    "ks = KaggleSurvey2020(csv_file)\n",
    "type(ks)"
   ]
  }
 ],
 "metadata": {
  "kernelspec": {
   "display_name": "Python Data Analysis",
   "language": "python",
   "name": "pyda"
  },
  "language_info": {
   "codemirror_mode": {
    "name": "ipython",
    "version": 3
   },
   "file_extension": ".py",
   "mimetype": "text/x-python",
   "name": "python",
   "nbconvert_exporter": "python",
   "pygments_lexer": "ipython3",
   "version": "3.6.8"
  }
 },
 "nbformat": 4,
 "nbformat_minor": 4
}
